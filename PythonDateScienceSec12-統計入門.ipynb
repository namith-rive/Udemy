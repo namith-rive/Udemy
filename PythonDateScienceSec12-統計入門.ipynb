{
 "cells": [
  {
   "cell_type": "markdown",
   "id": "3f15de92",
   "metadata": {},
   "source": [
    "## 離散一様分布"
   ]
  },
  {
   "cell_type": "code",
   "execution_count": 1,
   "id": "d028687a",
   "metadata": {},
   "outputs": [],
   "source": [
    "import numpy as np\n",
    "from numpy.random import randn\n",
    "import pandas as pd\n",
    "from scipy import stats\n",
    "import matplotlib as plt\n",
    "import matplotlib.pyplot as plt\n",
    "import seaborn as sns\n",
    "\n",
    "%matplotlib inline"
   ]
  },
  {
   "cell_type": "code",
   "execution_count": 2,
   "id": "183bf2b0",
   "metadata": {},
   "outputs": [
    {
     "data": {
      "image/png": "[encoded data removed]",
      "text/plain": [
       "<Figure size 432x288 with 1 Axes>"
      ]
     },
     "metadata": {
      "needs_background": "light"
     },
     "output_type": "display_data"
    }
   ],
   "source": [
    "# 仮想手kな細工路を作り、その振る舞いを可視化する\n",
    "# さいころの値\n",
    "roll_options = [1,2,3,4,5,6]\n",
    "\n",
    "# 確率の総和は1\n",
    "tprob = 1\n",
    "\n",
    "# 公正なサイコロの場合、偏りなく同じ目が出る(=1/6)\n",
    "prob_roll = tprob / len(roll_options)\n",
    "\n",
    "uni_plot = plt.bar(roll_options, [prob_roll]*6)"
   ]
  },
  {
   "cell_type": "code",
   "execution_count": 4,
   "id": "7f2d6433",
   "metadata": {},
   "outputs": [
    {
     "data": {
      "text/plain": [
       "(array(3.5), array(2.91666667))"
      ]
     },
     "execution_count": 4,
     "metadata": {},
     "output_type": "execute_result"
    }
   ],
   "source": [
    "# 平均と分散\n",
    "from scipy.stats import randint\n",
    "\n",
    "# 最大最小の定義\n",
    "low, high = 1,7\n",
    "# 最大値と最小値の間の平均・分散を計算する\n",
    "mean, var = randint.stats(low, high)\n",
    "mean, var"
   ]
  },
  {
   "cell_type": "markdown",
   "id": "9d116c14",
   "metadata": {},
   "source": [
    "## 連続一様分布"
   ]
  },
  {
   "cell_type": "code",
   "execution_count": 7,
   "id": "66fcab75",
   "metadata": {},
   "outputs": [
    {
     "data": {
      "text/plain": [
       "0.125"
      ]
     },
     "execution_count": 7,
     "metadata": {},
     "output_type": "execute_result"
    }
   ],
   "source": [
    "# NYのタクシー乗車時間が19分から27分の間の連続的な一様分布とする\n",
    "a = 19\n",
    "b=27\n",
    "# 確率密度\n",
    "fx = 1.0 / (b-a)\n",
    "fx"
   ]
  },
  {
   "cell_type": "code",
   "execution_count": 8,
   "id": "55c1f1cf",
   "metadata": {},
   "outputs": [
    {
     "data": {
      "text/plain": [
       "5.333333333333333"
      ]
     },
     "execution_count": 8,
     "metadata": {},
     "output_type": "execute_result"
    }
   ],
   "source": [
    "# 分散\n",
    "var = ((b-a)**2) / 12\n",
    "var"
   ]
  },
  {
   "cell_type": "code",
   "execution_count": 10,
   "id": "7a46de45",
   "metadata": {},
   "outputs": [
    {
     "data": {
      "text/plain": [
       "0.25"
      ]
     },
     "execution_count": 10,
     "metadata": {},
     "output_type": "execute_result"
    }
   ],
   "source": [
    "\"\"\"乗車時間が少なくとも25より長い確率\n",
    "全体から乗車時間<25分の場合を引けばよい\n",
    "\"\"\"\n",
    "f25 = (25-19) / (b-a)\n",
    "ans = 1 - f25\n",
    "ans"
   ]
  },
  {
   "cell_type": "code",
   "execution_count": 15,
   "id": "53d39d51",
   "metadata": {},
   "outputs": [
    {
     "data": {
      "text/plain": [
       "[<matplotlib.lines.Line2D at 0x1df756d7880>]"
      ]
     },
     "execution_count": 15,
     "metadata": {},
     "output_type": "execute_result"
    },
    {
     "data": {
      "image/png": "[encoded data removed]",
      "text/plain": [
       "<Figure size 432x288 with 1 Axes>"
      ]
     },
     "metadata": {
      "needs_background": "light"
     },
     "output_type": "display_data"
    }
   ],
   "source": [
    "from scipy.stats import uniform\n",
    "import numpy as np\n",
    "import matplotlib.pyplot as plt\n",
    "%matplotlib inline\n",
    "\n",
    "# 最大最小\n",
    "A=0\n",
    "B=5\n",
    "\n",
    "x = np.linspace(A, B, 100)\n",
    "rv = uniform(loc=A, scale= B)\n",
    "\n",
    "# 確率密度関数(PDF: 青色)　→　この例題だと一様分布なので全部一緒\n",
    "plt.plot(x, rv.pdf(x))\n",
    "# 累積分布関数(CDF : 黄色)\n",
    "plt.plot(x, rv.cdf(x))"
   ]
  },
  {
   "cell_type": "markdown",
   "id": "f8dcbce3",
   "metadata": {},
   "source": [
    "## ボアソン分布"
   ]
  },
  {
   "cell_type": "code",
   "execution_count": 4,
   "id": "c525ec52",
   "metadata": {},
   "outputs": [
    {
     "data": {
      "text/plain": [
       "0.09007922571921599"
      ]
     },
     "execution_count": 4,
     "metadata": {},
     "output_type": "execute_result"
    }
   ],
   "source": [
    "lamb = 10\n",
    "k = 7\n",
    "from math import exp\n",
    "from math import factorial\n",
    "prob = (lamb**k)*exp(-lamb)/factorial(k)\n",
    "prob"
   ]
  },
  {
   "cell_type": "code",
   "execution_count": 6,
   "id": "f8c37f19",
   "metadata": {},
   "outputs": [
    {
     "data": {
      "text/plain": [
       "array(10.)"
      ]
     },
     "execution_count": 6,
     "metadata": {},
     "output_type": "execute_result"
    }
   ],
   "source": [
    "# scikilearnを使うとより簡単\n",
    "from scipy.stats import poisson\n",
    "mu =10\n",
    "mean, var = poisson.stats(mu)\n",
    "odds_seven = poisson.pmf(7, mu)\n",
    "mean"
   ]
  },
  {
   "cell_type": "code",
   "execution_count": 7,
   "id": "c74da981",
   "metadata": {},
   "outputs": [
    {
     "data": {
      "text/plain": [
       "0.090079225719216"
      ]
     },
     "execution_count": 7,
     "metadata": {},
     "output_type": "execute_result"
    }
   ],
   "source": [
    "odds_seven"
   ]
  },
  {
   "cell_type": "code",
   "execution_count": null,
   "id": "f98d3f2a",
   "metadata": {},
   "outputs": [],
   "source": []
  }
 ],
 "metadata": {
  "kernelspec": {
   "display_name": "Python 3 (ipykernel)",
   "language": "python",
   "name": "python3"
  },
  "language_info": {
   "codemirror_mode": {
    "name": "ipython",
    "version": 3
   },
   "file_extension": ".py",
   "mimetype": "text/x-python",
   "name": "python",
   "nbconvert_exporter": "python",
   "pygments_lexer": "ipython3",
   "version": "3.9.7"
  }
 },
 "nbformat": 4,
 "nbformat_minor": 5
}
