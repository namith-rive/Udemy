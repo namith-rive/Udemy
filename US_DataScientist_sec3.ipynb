{
 "cells": [
  {
   "cell_type": "code",
   "execution_count": 2,
   "id": "c3aff1ee",
   "metadata": {},
   "outputs": [
    {
     "data": {
      "text/plain": [
       "'hello world, value is Value'"
      ]
     },
     "execution_count": 2,
     "metadata": {},
     "output_type": "execute_result"
    }
   ],
   "source": [
    "'hello {k}, value is {v}'.format(k='world', v= 'Value')"
   ]
  },
  {
   "cell_type": "code",
   "execution_count": 5,
   "id": "3756daff",
   "metadata": {},
   "outputs": [
    {
     "data": {
      "text/plain": [
       "'12345_6.csv'"
      ]
     },
     "execution_count": 5,
     "metadata": {},
     "output_type": "execute_result"
    }
   ],
   "source": [
    "patient_id = '12345'\n",
    "number = '6'\n",
    "file_name = patient_id + '_' + number + '.csv'\n",
    "file_name"
   ]
  },
  {
   "cell_type": "code",
   "execution_count": 6,
   "id": "56deb0d8",
   "metadata": {},
   "outputs": [
    {
     "data": {
      "text/plain": [
       "'12345_6.csv'"
      ]
     },
     "execution_count": 6,
     "metadata": {},
     "output_type": "execute_result"
    }
   ],
   "source": [
    "file_name = '{}_{}.csv'.format(patient_id, number)\n",
    "file_name"
   ]
  },
  {
   "cell_type": "code",
   "execution_count": 8,
   "id": "81db23ed",
   "metadata": {},
   "outputs": [
    {
     "data": {
      "text/plain": [
       "['hell', ' w', 'rld']"
      ]
     },
     "execution_count": 8,
     "metadata": {},
     "output_type": "execute_result"
    }
   ],
   "source": [
    "'hello world'.split('o')"
   ]
  },
  {
   "cell_type": "code",
   "execution_count": 9,
   "id": "f7793ab4",
   "metadata": {},
   "outputs": [],
   "source": [
    "dict1={'key1':'value1','key2':2}"
   ]
  },
  {
   "cell_type": "code",
   "execution_count": 11,
   "id": "24c333a6",
   "metadata": {},
   "outputs": [
    {
     "data": {
      "text/plain": [
       "'value1'"
      ]
     },
     "execution_count": 11,
     "metadata": {},
     "output_type": "execute_result"
    }
   ],
   "source": [
    "dict1['key1']"
   ]
  },
  {
   "cell_type": "code",
   "execution_count": 14,
   "id": "f97d36aa",
   "metadata": {},
   "outputs": [],
   "source": [
    "dict1['key4'] ='value4'"
   ]
  },
  {
   "cell_type": "code",
   "execution_count": 15,
   "id": "778c0bb8",
   "metadata": {},
   "outputs": [
    {
     "data": {
      "text/plain": [
       "{'key1': 'value1', 'key2': 2, 'key4': 'value4'}"
      ]
     },
     "execution_count": 15,
     "metadata": {},
     "output_type": "execute_result"
    }
   ],
   "source": [
    "dict1"
   ]
  },
  {
   "cell_type": "code",
   "execution_count": 16,
   "id": "51c54435",
   "metadata": {},
   "outputs": [
    {
     "data": {
      "text/plain": [
       "{'key1': 'update', 'key2': 2, 'key4': 'value4'}"
      ]
     },
     "execution_count": 16,
     "metadata": {},
     "output_type": "execute_result"
    }
   ],
   "source": [
    "dict1['key1'] ='update'\n",
    "dict1"
   ]
  },
  {
   "cell_type": "code",
   "execution_count": 18,
   "id": "fd74c396",
   "metadata": {},
   "outputs": [
    {
     "data": {
      "text/plain": [
       "(dict_keys(['key1', 'key2', 'key4']), dict_values(['update', 2, 'value4']))"
      ]
     },
     "execution_count": 18,
     "metadata": {},
     "output_type": "execute_result"
    }
   ],
   "source": [
    "dict1.keys(),dict1.values()"
   ]
  },
  {
   "cell_type": "code",
   "execution_count": 19,
   "id": "0f7d7d80",
   "metadata": {},
   "outputs": [
    {
     "data": {
      "text/plain": [
       "[1, 1, 1, 2, 2, 3, 3, 3]"
      ]
     },
     "execution_count": 19,
     "metadata": {},
     "output_type": "execute_result"
    }
   ],
   "source": [
    "set1 = [1,1,1,2,2,3,3,3]\n",
    "set1"
   ]
  },
  {
   "cell_type": "markdown",
   "id": "0739b597",
   "metadata": {},
   "source": [
    "## Casting"
   ]
  },
  {
   "cell_type": "code",
   "execution_count": 21,
   "id": "d50e8e05",
   "metadata": {},
   "outputs": [
    {
     "data": {
      "text/plain": [
       "1"
      ]
     },
     "execution_count": 21,
     "metadata": {},
     "output_type": "execute_result"
    }
   ],
   "source": [
    "int(1.9)"
   ]
  },
  {
   "cell_type": "markdown",
   "id": "5e107500",
   "metadata": {},
   "source": [
    "## if文"
   ]
  },
  {
   "cell_type": "code",
   "execution_count": 7,
   "id": "2820f61f",
   "metadata": {},
   "outputs": [],
   "source": [
    "a=2"
   ]
  },
  {
   "cell_type": "code",
   "execution_count": 9,
   "id": "992a8129",
   "metadata": {},
   "outputs": [
    {
     "name": "stdout",
     "output_type": "stream",
     "text": [
      "HelloWorld\n"
     ]
    }
   ],
   "source": [
    "if a == 1:\n",
    "    print('hello')\n",
    "elif a <= 0:\n",
    "    print('world')\n",
    "else:\n",
    "    print('HelloWorld')"
   ]
  },
  {
   "cell_type": "markdown",
   "id": "5f1f4199",
   "metadata": {},
   "source": [
    "## loop"
   ]
  },
  {
   "cell_type": "code",
   "execution_count": 12,
   "id": "cd74d69c",
   "metadata": {},
   "outputs": [
    {
     "name": "stdout",
     "output_type": "stream",
     "text": [
      "red is Not my color\n",
      "blue is my color\n",
      "green is Not my color\n",
      "yellow is Not my color\n"
     ]
    }
   ],
   "source": [
    "colors = ['red', 'blue', 'green', 'yellow']\n",
    "for color in colors:\n",
    "    favorite_color = 'blue'\n",
    "    #print(color)\n",
    "    if color == favorite_color:\n",
    "        print('{} is my color'.format(color))\n",
    "    else:\n",
    "        print('{} is Not my color'.format(color))"
   ]
  },
  {
   "cell_type": "code",
   "execution_count": 15,
   "id": "676186ac",
   "metadata": {},
   "outputs": [
    {
     "data": {
      "text/plain": [
       "[1, 4, 7]"
      ]
     },
     "execution_count": 15,
     "metadata": {},
     "output_type": "execute_result"
    }
   ],
   "source": [
    "list(range(1, 10, 3))"
   ]
  },
  {
   "cell_type": "code",
   "execution_count": 19,
   "id": "8d8c8664",
   "metadata": {},
   "outputs": [
    {
     "name": "stdout",
     "output_type": "stream",
     "text": [
      "0: red is Not my color\n",
      "1: blue is my color\n",
      "2: green is Not my color\n",
      "3: yellow is Not my color\n"
     ]
    }
   ],
   "source": [
    "for idx,color in enumerate(colors):\n",
    "    favorite_color = 'blue'\n",
    "    if color == favorite_color:\n",
    "        print('{}: {} is my color'.format(idx, color))\n",
    "    else:\n",
    "        print('{}: {} is Not my color'.format(idx, color))  "
   ]
  },
  {
   "cell_type": "code",
   "execution_count": 22,
   "id": "2060bac2",
   "metadata": {},
   "outputs": [
    {
     "data": {
      "text/plain": [
       "[(0, 'red'), (1, 'blue'), (2, 'green'), (3, 'yellow')]"
      ]
     },
     "execution_count": 22,
     "metadata": {},
     "output_type": "execute_result"
    }
   ],
   "source": [
    "list(enumerate(colors))"
   ]
  },
  {
   "cell_type": "markdown",
   "id": "260750f3",
   "metadata": {},
   "source": [
    "## リスト内包表記"
   ]
  },
  {
   "cell_type": "code",
   "execution_count": 23,
   "id": "211e3b53",
   "metadata": {},
   "outputs": [],
   "source": [
    "colors = ['red', 'blue', 'green', 'yellow']\n",
    "colors_png = ['red.png', 'blue.png', 'green.png', 'yellow.png']"
   ]
  },
  {
   "cell_type": "code",
   "execution_count": 35,
   "id": "31782e4b",
   "metadata": {},
   "outputs": [
    {
     "data": {
      "text/plain": [
       "['red.png', 'blue.png', 'green.png', 'yellow.png']"
      ]
     },
     "execution_count": 35,
     "metadata": {},
     "output_type": "execute_result"
    }
   ],
   "source": [
    "[ color + '.png' for color in colors]"
   ]
  },
  {
   "cell_type": "markdown",
   "id": "4548efd1",
   "metadata": {},
   "source": [
    "## While文"
   ]
  },
  {
   "cell_type": "code",
   "execution_count": 39,
   "id": "5ff489a4",
   "metadata": {},
   "outputs": [
    {
     "name": "stdout",
     "output_type": "stream",
     "text": [
      "0 is less than 5\n",
      "1 is less than 5\n",
      "2 is less than 5\n",
      "3 is less than 5\n",
      "4 is less than 5\n"
     ]
    }
   ],
   "source": [
    "i = 0\n",
    "while i < 5:\n",
    "    print('{} is less than 5'.format(i))\n",
    "    i += 1"
   ]
  },
  {
   "cell_type": "code",
   "execution_count": 40,
   "id": "c3d45e6e",
   "metadata": {},
   "outputs": [
    {
     "name": "stdout",
     "output_type": "stream",
     "text": [
      "red\n",
      "blue\n",
      "green\n",
      "yellow\n"
     ]
    }
   ],
   "source": [
    "#teraburuto itere-ta \n",
    "colors = ['red', 'blue', 'green', 'yellow']\n",
    "for color in colors:\n",
    "    print(color)"
   ]
  },
  {
   "cell_type": "code",
   "execution_count": 42,
   "id": "5b971cdf",
   "metadata": {},
   "outputs": [
    {
     "ename": "TypeError",
     "evalue": "'int' object is not iterable",
     "output_type": "error",
     "traceback": [
      "\u001b[1;31m---------------------------------------------------------------------------\u001b[0m",
      "\u001b[1;31mTypeError\u001b[0m                                 Traceback (most recent call last)",
      "Input \u001b[1;32mIn [42]\u001b[0m, in \u001b[0;36m<cell line: 1>\u001b[1;34m()\u001b[0m\n\u001b[1;32m----> 1\u001b[0m \u001b[38;5;28;01mfor\u001b[39;00m cha \u001b[38;5;129;01min\u001b[39;00m \u001b[38;5;241m40\u001b[39m:\n\u001b[0;32m      2\u001b[0m     \u001b[38;5;28mprint\u001b[39m(cha)\n",
      "\u001b[1;31mTypeError\u001b[0m: 'int' object is not iterable"
     ]
    }
   ],
   "source": [
    "for cha in 40:\n",
    "    print(cha)"
   ]
  },
  {
   "cell_type": "markdown",
   "id": "2720aa5b",
   "metadata": {},
   "source": [
    "'int' object is not iterable\n",
    "→Booleanな数値などのオブジェクトはloop出来ない\n"
   ]
  },
  {
   "cell_type": "markdown",
   "id": "22a98574",
   "metadata": {},
   "source": [
    "## 関数"
   ]
  },
  {
   "cell_type": "code",
   "execution_count": 49,
   "id": "cf266990",
   "metadata": {},
   "outputs": [],
   "source": [
    "def function_name(param1, param2):\n",
    "    \"\"\"\n",
    "    this function prints something\n",
    "    Parameters\n",
    "        param1:param1\n",
    "        param2: explain\n",
    "    \n",
    "    \"\"\"\n",
    "    print('{} And {}'.format(param1, param2))\n",
    "    return param1 + ' and ' + param2"
   ]
  },
  {
   "cell_type": "code",
   "execution_count": 51,
   "id": "8a913434",
   "metadata": {},
   "outputs": [
    {
     "name": "stdout",
     "output_type": "stream",
     "text": [
      "argument1 And argument1\n"
     ]
    }
   ],
   "source": [
    "arg1 = 'argument1'\n",
    "arg2 = 'argument1'\n",
    "\n",
    "func_return = function_name(arg1, arg2)"
   ]
  },
  {
   "cell_type": "code",
   "execution_count": 52,
   "id": "a4e94625",
   "metadata": {},
   "outputs": [
    {
     "data": {
      "text/plain": [
       "'argument1 and argument1'"
      ]
     },
     "execution_count": 52,
     "metadata": {},
     "output_type": "execute_result"
    }
   ],
   "source": [
    "func_return"
   ]
  },
  {
   "cell_type": "code",
   "execution_count": 53,
   "id": "c63b7324",
   "metadata": {},
   "outputs": [],
   "source": [
    "list_a = [1,2,3]"
   ]
  },
  {
   "cell_type": "code",
   "execution_count": 54,
   "id": "015c67c5",
   "metadata": {},
   "outputs": [],
   "source": [
    "def append_elem(list_param, elem=0):\n",
    "    list_param.append(elem)\n",
    "    return list_param"
   ]
  },
  {
   "cell_type": "code",
   "execution_count": 55,
   "id": "c381ab11",
   "metadata": {},
   "outputs": [],
   "source": [
    "# 参照渡し\n",
    "list_b = append_elem(list_a, elem = 4)"
   ]
  },
  {
   "cell_type": "code",
   "execution_count": 56,
   "id": "231ce701",
   "metadata": {},
   "outputs": [
    {
     "data": {
      "text/plain": [
       "[1, 2, 3, 4]"
      ]
     },
     "execution_count": 56,
     "metadata": {},
     "output_type": "execute_result"
    }
   ],
   "source": [
    "list_b"
   ]
  },
  {
   "cell_type": "code",
   "execution_count": 57,
   "id": "2ca4bd0c",
   "metadata": {},
   "outputs": [
    {
     "data": {
      "text/plain": [
       "[1, 2, 3, 4]"
      ]
     },
     "execution_count": 57,
     "metadata": {},
     "output_type": "execute_result"
    }
   ],
   "source": [
    "list_a"
   ]
  },
  {
   "cell_type": "code",
   "execution_count": 59,
   "id": "53cf193b",
   "metadata": {},
   "outputs": [],
   "source": [
    "num_a = 4\n"
   ]
  },
  {
   "cell_type": "code",
   "execution_count": 60,
   "id": "17b01134",
   "metadata": {},
   "outputs": [],
   "source": [
    "def add_num(param, num=0):\n",
    "    param += num\n",
    "    return param"
   ]
  },
  {
   "cell_type": "code",
   "execution_count": 63,
   "id": "236f7389",
   "metadata": {},
   "outputs": [
    {
     "data": {
      "text/plain": [
       "7"
      ]
     },
     "execution_count": 63,
     "metadata": {},
     "output_type": "execute_result"
    }
   ],
   "source": [
    "num_b = add_num(num_a, num=3)\n",
    "num_b"
   ]
  },
  {
   "cell_type": "code",
   "execution_count": 65,
   "id": "aa3b997f",
   "metadata": {},
   "outputs": [
    {
     "data": {
      "text/plain": [
       "4"
      ]
     },
     "execution_count": 65,
     "metadata": {},
     "output_type": "execute_result"
    }
   ],
   "source": [
    "# integerはmutableなので参照渡しされる（＝変更されない）\n",
    "num_a"
   ]
  },
  {
   "cell_type": "code",
   "execution_count": 66,
   "id": "f3e5bc14",
   "metadata": {},
   "outputs": [],
   "source": [
    "## lambda関数\n"
   ]
  },
  {
   "cell_type": "code",
   "execution_count": 67,
   "id": "707a3d22",
   "metadata": {},
   "outputs": [],
   "source": [
    "def func(a):\n",
    "    return a+1"
   ]
  },
  {
   "cell_type": "code",
   "execution_count": 68,
   "id": "2a654d5c",
   "metadata": {},
   "outputs": [],
   "source": [
    "# x = lambda a: a + 1"
   ]
  },
  {
   "cell_type": "code",
   "execution_count": 69,
   "id": "16770e5b",
   "metadata": {},
   "outputs": [
    {
     "ename": "SyntaxError",
     "evalue": "invalid syntax (3821401249.py, line 1)",
     "output_type": "error",
     "traceback": [
      "\u001b[1;36m  Input \u001b[1;32mIn [69]\u001b[1;36m\u001b[0m\n\u001b[1;33m    lambda(a: a+1)\u001b[0m\n\u001b[1;37m          ^\u001b[0m\n\u001b[1;31mSyntaxError\u001b[0m\u001b[1;31m:\u001b[0m invalid syntax\n"
     ]
    }
   ],
   "source": [
    "lambda a: a+1"
   ]
  },
  {
   "cell_type": "code",
   "execution_count": 71,
   "id": "69305e6f",
   "metadata": {},
   "outputs": [
    {
     "data": {
      "text/plain": [
       "6"
      ]
     },
     "execution_count": 71,
     "metadata": {},
     "output_type": "execute_result"
    }
   ],
   "source": [
    "x(5)"
   ]
  },
  {
   "cell_type": "code",
   "execution_count": 73,
   "id": "7f4d1653",
   "metadata": {},
   "outputs": [
    {
     "ename": "SyntaxError",
     "evalue": "EOL while scanning string literal (1097618183.py, line 2)",
     "output_type": "error",
     "traceback": [
      "\u001b[1;36m  Input \u001b[1;32mIn [73]\u001b[1;36m\u001b[0m\n\u001b[1;33m    ''/home/user/Desktop/image1.jpg'\u001b[0m\n\u001b[1;37m                                    ^\u001b[0m\n\u001b[1;31mSyntaxError\u001b[0m\u001b[1;31m:\u001b[0m EOL while scanning string literal\n"
     ]
    }
   ],
   "source": [
    "'image'\n",
    "'/home/user/Desktop/image1.jpg'"
   ]
  },
  {
   "cell_type": "code",
   "execution_count": 88,
   "id": "9ec2fae0",
   "metadata": {},
   "outputs": [],
   "source": [
    "def get_filename(path):\n",
    "    return path.split('/')[-1].split('.')[0]"
   ]
  },
  {
   "cell_type": "code",
   "execution_count": 89,
   "id": "d8374a2d",
   "metadata": {},
   "outputs": [
    {
     "data": {
      "text/plain": [
       "'image1'"
      ]
     },
     "execution_count": 89,
     "metadata": {},
     "output_type": "execute_result"
    }
   ],
   "source": [
    "'/home/user/Desktop/image1.jpg'.split('/')[-1].split('.')[0]"
   ]
  },
  {
   "cell_type": "code",
   "execution_count": 90,
   "id": "1414f7ff",
   "metadata": {},
   "outputs": [
    {
     "data": {
      "text/plain": [
       "'image1'"
      ]
     },
     "execution_count": 90,
     "metadata": {},
     "output_type": "execute_result"
    }
   ],
   "source": [
    "get_filename('/home/user/Desktop/image1.jpg')"
   ]
  },
  {
   "cell_type": "code",
   "execution_count": 95,
   "id": "80a552f7",
   "metadata": {},
   "outputs": [],
   "source": [
    "path = '/home/user/Desktop/image1.jpg'\n",
    "name = lambda path:path.split('/')[-1].split('.')[0]\n"
   ]
  },
  {
   "cell_type": "code",
   "execution_count": 98,
   "id": "23c1015e",
   "metadata": {},
   "outputs": [
    {
     "data": {
      "text/plain": [
       "'image1'"
      ]
     },
     "execution_count": 98,
     "metadata": {},
     "output_type": "execute_result"
    }
   ],
   "source": [
    "name(path)"
   ]
  },
  {
   "cell_type": "markdown",
   "id": "a38b0853",
   "metadata": {},
   "source": [
    "## 演習"
   ]
  },
  {
   "cell_type": "code",
   "execution_count": 112,
   "id": "246bb032",
   "metadata": {},
   "outputs": [],
   "source": [
    "filelists = ['filename1','filename2','filename3']\n"
   ]
  },
  {
   "cell_type": "code",
   "execution_count": 120,
   "id": "9e777471",
   "metadata": {},
   "outputs": [],
   "source": [
    "def add_png(file_names):\n",
    "    result_list = []\n",
    "    \n",
    "    for idx, file_name in enumerate(file_names):\n",
    "        result_list.append('{}_{}{}'.format(file_name,idx,'.png'))\n",
    "        \n",
    "    return result_list"
   ]
  },
  {
   "cell_type": "code",
   "execution_count": 121,
   "id": "60c8f8c1",
   "metadata": {},
   "outputs": [
    {
     "data": {
      "text/plain": [
       "['filename1_0.png', 'filename2_1.png', 'filename3_2.png']"
      ]
     },
     "execution_count": 121,
     "metadata": {},
     "output_type": "execute_result"
    }
   ],
   "source": [
    "add_png(file_names)"
   ]
  },
  {
   "cell_type": "code",
   "execution_count": 125,
   "id": "064e2503",
   "metadata": {},
   "outputs": [
    {
     "data": {
      "text/plain": [
       "['filename1_0.png', 'filename2_1.png', 'filename3_2.png']"
      ]
     },
     "execution_count": 125,
     "metadata": {},
     "output_type": "execute_result"
    }
   ],
   "source": [
    "[ '{}_{}{}'.format(file_name,idx,'.png') for idx, file_name in enumerate(filelists)]"
   ]
  },
  {
   "cell_type": "code",
   "execution_count": 135,
   "id": "2c9d33cc",
   "metadata": {},
   "outputs": [],
   "source": [
    "def add_png_ver2(file_names):\n",
    "    return [ '{}_{}{}'.format(file_name,idx,'.png') for idx, file_name in enumerate(file_names)]"
   ]
  },
  {
   "cell_type": "code",
   "execution_count": 136,
   "id": "d4706b08",
   "metadata": {},
   "outputs": [
    {
     "data": {
      "text/plain": [
       "['filename1_0.png', 'filename2_1.png', 'filename3_2.png']"
      ]
     },
     "execution_count": 136,
     "metadata": {},
     "output_type": "execute_result"
    }
   ],
   "source": [
    "add_png_ver2(file_names)"
   ]
  },
  {
   "cell_type": "code",
   "execution_count": null,
   "id": "3f5cd170",
   "metadata": {},
   "outputs": [],
   "source": []
  }
 ],
 "metadata": {
  "kernelspec": {
   "display_name": "Python 3 (ipykernel)",
   "language": "python",
   "name": "python3"
  },
  "language_info": {
   "codemirror_mode": {
    "name": "ipython",
    "version": 3
   },
   "file_extension": ".py",
   "mimetype": "text/x-python",
   "name": "python",
   "nbconvert_exporter": "python",
   "pygments_lexer": "ipython3",
   "version": "3.9.7"
  }
 },
 "nbformat": 4,
 "nbformat_minor": 5
}
